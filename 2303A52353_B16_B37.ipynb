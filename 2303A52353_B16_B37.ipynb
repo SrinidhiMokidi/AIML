{
  "nbformat": 4,
  "nbformat_minor": 0,
  "metadata": {
    "colab": {
      "provenance": [],
      "authorship_tag": "ABX9TyNxJRe6LEuTiqPHXxMr9zex",
      "include_colab_link": true
    },
    "kernelspec": {
      "name": "python3",
      "display_name": "Python 3"
    },
    "language_info": {
      "name": "python"
    }
  },
  "cells": [
    {
      "cell_type": "markdown",
      "metadata": {
        "id": "view-in-github",
        "colab_type": "text"
      },
      "source": [
        "<a href=\"https://colab.research.google.com/github/SrinidhiMokidi/AIML/blob/main/2303A52353_B16_B37.ipynb\" target=\"_parent\"><img src=\"https://colab.research.google.com/assets/colab-badge.svg\" alt=\"Open In Colab\"/></a>"
      ]
    },
    {
      "cell_type": "code",
      "execution_count": null,
      "metadata": {
        "colab": {
          "base_uri": "https://localhost:8080/"
        },
        "id": "OJyvK2Ys2Hn6",
        "outputId": "17f834d3-980a-410e-ab08-7d0e294a475a"
      },
      "outputs": [
        {
          "output_type": "stream",
          "name": "stdout",
          "text": [
            "Mounted at /content/drive\n"
          ]
        }
      ],
      "source": [
        "from google.colab import drive\n",
        "drive.mount('/content/drive')"
      ]
    },
    {
      "cell_type": "code",
      "source": [
        "#Prediction of Travel Destinations using Travel Reviews\n"
      ],
      "metadata": {
        "id": "YKjodPKV9BcX"
      },
      "execution_count": null,
      "outputs": []
    },
    {
      "cell_type": "code",
      "source": [
        "#Identify the top 5 travel destination of the travellers in East Asia.\n",
        "\n",
        "\n",
        "import pandas as pd\n",
        "from google.colab import drive\n",
        "\n",
        "# Mount Google Drive to the '/content/drive' directory\n",
        "drive.mount('/content/drive')\n",
        "\n",
        "# Replace 'path/to/your/file.csv' with the actual path to your file in Google Drive\n",
        "file_path = '/content/drive/MyDrive/tripadvisor_review.csv'\n",
        "travel_reviews = pd.read_csv(file_path)\n",
        "\n",
        "# Summing ratings across all users for each category (assuming categories represent destinations)\n",
        "destination_scores = travel_reviews.iloc[:, 1:].sum().sort_values(ascending=False)\n",
        "\n",
        "# Selecting the top 5 destinations\n",
        "top_5_destinations = destination_scores.head(5)\n",
        "\n",
        "# Displaying the results\n",
        "print(\"Top 5 Destinations based on aggregated scores:\")\n",
        "print(top_5_destinations)"
      ],
      "metadata": {
        "colab": {
          "base_uri": "https://localhost:8080/"
        },
        "id": "2HosQ1HS4lib",
        "outputId": "10f5f8d5-ca97-44ca-f792-5290314f068c"
      },
      "execution_count": null,
      "outputs": [
        {
          "output_type": "stream",
          "name": "stdout",
          "text": [
            "Drive already mounted at /content/drive; to attempt to forcibly remount, call drive.mount(\"/content/drive\", force_remount=True).\n",
            "Top 5 Destinations based on aggregated scores:\n",
            "Category 7     3117.32\n",
            "Category 8     2778.36\n",
            "Category 10    2743.24\n",
            "Category 6     1806.04\n",
            "Category 9     1538.05\n",
            "dtype: float64\n"
          ]
        }
      ]
    },
    {
      "cell_type": "code",
      "source": [
        "#Name the category most liked by the travellers.\n",
        "\n",
        "\n",
        "# Calculate the total scores for each category\n",
        "category_scores = travel_reviews.iloc[:, 1:].sum()\n",
        "\n",
        "# Find the most liked category and its score\n",
        "most_liked_category = category_scores.idxmax()\n",
        "most_liked_score = category_scores.max()\n",
        "\n",
        "# Display the result\n",
        "print(f\"The most liked category is {most_liked_category} with a total score of {most_liked_score:.2f}\")\n"
      ],
      "metadata": {
        "colab": {
          "base_uri": "https://localhost:8080/"
        },
        "id": "JNKJea0u4xAE",
        "outputId": "05492de9-a5a4-40ff-9644-dd22a1363a3d"
      },
      "execution_count": null,
      "outputs": [
        {
          "output_type": "stream",
          "name": "stdout",
          "text": [
            "The most liked category is Category 7 with a total score of 3117.32\n"
          ]
        }
      ]
    },
    {
      "cell_type": "code",
      "source": [
        "#Identify the max and min counts of the most liked category of the travellers.\n",
        "\n",
        "# Identify the most liked category\n",
        "most_liked_category = travel_reviews.iloc[:, 1:].sum().idxmax()\n",
        "\n",
        "# Extract the scores for the most liked category\n",
        "most_liked_category_scores = travel_reviews[most_liked_category]\n",
        "\n",
        "# Find the maximum and minimum counts (scores)\n",
        "max_score = most_liked_category_scores.max()\n",
        "min_score = most_liked_category_scores.min()\n",
        "\n",
        "# Display the results\n",
        "print(f\"The most liked category is {most_liked_category}.\")\n",
        "print(f\"Maximum score: {max_score}\")\n",
        "print(f\"Minimum score: {min_score}\")\n"
      ],
      "metadata": {
        "colab": {
          "base_uri": "https://localhost:8080/"
        },
        "id": "kNs1lXhI6T8t",
        "outputId": "e112aee2-c2bf-4e9a-ed99-0616d6409b30"
      },
      "execution_count": null,
      "outputs": [
        {
          "output_type": "stream",
          "name": "stdout",
          "text": [
            "The most liked category is Category 7.\n",
            "Maximum score: 3.21\n",
            "Minimum score: 3.16\n"
          ]
        }
      ]
    },
    {
      "cell_type": "code",
      "source": [
        "#Predict the count of travellers who liked the religious institutions the most.\n",
        "# Assuming \"Category 7\" (most liked) represents religious institutions.\n",
        "religious_category = \"Category 7\"\n",
        "\n",
        "# Count travelers for whom the religious category has the highest score\n",
        "travel_reviews['Preferred Category'] = travel_reviews.iloc[:, 1:].idxmax(axis=1)\n",
        "count_religious_institutions = (travel_reviews['Preferred Category'] == religious_category).sum()\n",
        "\n",
        "# Display the result\n",
        "print(f\"The number of travelers who liked religious institutions the most is: {count_religious_institutions}\")\n"
      ],
      "metadata": {
        "colab": {
          "base_uri": "https://localhost:8080/"
        },
        "id": "8YEJPEQ96njQ",
        "outputId": "797c1706-0d23-475b-ede7-87f14d3414e7"
      },
      "execution_count": null,
      "outputs": [
        {
          "output_type": "stream",
          "name": "stdout",
          "text": [
            "The number of travelers who liked religious institutions the most is: 790\n"
          ]
        }
      ]
    },
    {
      "cell_type": "code",
      "source": [
        "#Identify the travellerIs who liked the beaches and picnic spot the most.\n",
        "# Assuming \"Category 3\" represents beaches and picnic spots\n",
        "beaches_category = \"Category 3\"\n",
        "\n",
        "# Add a column identifying each traveler's preferred category\n",
        "# Convert the relevant columns to numeric, errors='coerce' handles non-numeric values\n",
        "travel_reviews['Preferred Category'] = travel_reviews.iloc[:, 1:].apply(pd.to_numeric, errors='coerce').idxmax(axis=1)\n",
        "\n",
        "# Filter travelers who liked beaches and picnic spots the most\n",
        "beaches_lovers = travel_reviews[travel_reviews['Preferred Category'] == beaches_category]\n",
        "\n",
        "# Display the IDs of travelers who liked beaches and picnic spots the most\n",
        "print(\"Travelers who liked beaches and picnic spots the most:\")\n",
        "print(beaches_lovers['User ID'])"
      ],
      "metadata": {
        "colab": {
          "base_uri": "https://localhost:8080/"
        },
        "id": "HowFeF8P-d3U",
        "outputId": "fe671a8a-52f4-4ef9-d589-16fa0d82134c"
      },
      "execution_count": null,
      "outputs": [
        {
          "output_type": "stream",
          "name": "stdout",
          "text": [
            "Travelers who liked beaches and picnic spots the most:\n",
            "915    User 916\n",
            "Name: User ID, dtype: object\n"
          ]
        }
      ]
    },
    {
      "cell_type": "code",
      "source": [
        "pip install ucimlrepo"
      ],
      "metadata": {
        "colab": {
          "base_uri": "https://localhost:8080/"
        },
        "id": "3pJe7uWb_tCc",
        "outputId": "99d30d28-fa86-4c99-ea64-e30456d67b3d"
      },
      "execution_count": null,
      "outputs": [
        {
          "output_type": "stream",
          "name": "stdout",
          "text": [
            "Collecting ucimlrepo\n",
            "  Downloading ucimlrepo-0.0.7-py3-none-any.whl.metadata (5.5 kB)\n",
            "Requirement already satisfied: pandas>=1.0.0 in /usr/local/lib/python3.10/dist-packages (from ucimlrepo) (2.2.2)\n",
            "Requirement already satisfied: certifi>=2020.12.5 in /usr/local/lib/python3.10/dist-packages (from ucimlrepo) (2024.8.30)\n",
            "Requirement already satisfied: numpy>=1.22.4 in /usr/local/lib/python3.10/dist-packages (from pandas>=1.0.0->ucimlrepo) (1.26.4)\n",
            "Requirement already satisfied: python-dateutil>=2.8.2 in /usr/local/lib/python3.10/dist-packages (from pandas>=1.0.0->ucimlrepo) (2.8.2)\n",
            "Requirement already satisfied: pytz>=2020.1 in /usr/local/lib/python3.10/dist-packages (from pandas>=1.0.0->ucimlrepo) (2024.2)\n",
            "Requirement already satisfied: tzdata>=2022.7 in /usr/local/lib/python3.10/dist-packages (from pandas>=1.0.0->ucimlrepo) (2024.2)\n",
            "Requirement already satisfied: six>=1.5 in /usr/local/lib/python3.10/dist-packages (from python-dateutil>=2.8.2->pandas>=1.0.0->ucimlrepo) (1.16.0)\n",
            "Downloading ucimlrepo-0.0.7-py3-none-any.whl (8.0 kB)\n",
            "Installing collected packages: ucimlrepo\n",
            "Successfully installed ucimlrepo-0.0.7\n"
          ]
        }
      ]
    }
  ]
}